{
 "cells": [
  {
   "cell_type": "markdown",
   "metadata": {},
   "source": [
    "# Scraping Data\n",
    "\n",
    "Bagian ini merupakan proses pengambilan data (scraping data) ulasan dari aplikasi Brimo yang tersedia di Google Play Store. Data ulasan yang diperoleh akan dimanfaatkan untuk analisis sentimen. Proses scraping dilakukan secara langsung menggunakan library `google-play-scraper` dengan bahasa pemrograman Python."
   ]
  },
  {
   "cell_type": "code",
   "execution_count": 1,
   "metadata": {},
   "outputs": [
    {
     "name": "stdout",
     "output_type": "stream",
     "text": [
      "Requirement already satisfied: google-play-scraper in c:\\users\\chata\\anaconda3\\envs\\main-ds\\lib\\site-packages (1.2.7)\n"
     ]
    }
   ],
   "source": [
    "# Instal library scraping Play Store\n",
    "!pip install google-play-scraper"
   ]
  },
  {
   "cell_type": "code",
   "execution_count": 2,
   "metadata": {},
   "outputs": [],
   "source": [
    "# Import library\n",
    "from google_play_scraper import app, reviews, Sort, reviews_all # Import pustaka google_play_scraper\n",
    "import pandas as pd # untuk pengolalan data dalam bentuk DataFrame"
   ]
  },
  {
   "cell_type": "markdown",
   "metadata": {},
   "source": [
    "### Scraping Review (Ulasan) aplikasi Brimo secara mandiri\n",
    "\n",
    "Pengambilan data dilakukan langsung dari aplikasi Brimo di Google Play Store. Detail lengkap mengenai aplikasi ini dapat diakses melalui tautan berikut: [Aplikasi Brimo](https://play.google.com/store/apps/details?id=id.co.bri.brimo)\n"
   ]
  },
  {
   "cell_type": "code",
   "execution_count": 3,
   "metadata": {},
   "outputs": [],
   "source": [
    "# Mengambil ulasan bintang 5 dari aplikasi Brimo berdasarkan relevansi\n",
    "scrapreview = reviews(\n",
    "    'id.co.bri.brimo',\n",
    "    filter_score_with=5,\n",
    "    sort=Sort.MOST_RELEVANT,\n",
    "    lang='id',\n",
    "    count=30000,\n",
    "    country='id'\n",
    ")"
   ]
  },
  {
   "cell_type": "markdown",
   "metadata": {},
   "source": [
    "Mengambil hingga 30.000 ulasan bintang 5 untuk aplikasi Brimo dari Play Store, disaring berdasarkan bahasa Indonesia dan relevansinya, serta berasal dari pengguna di Indonesia. Hasil yang diambil berupa data ulasan yang nantinya dapat digunakan untuk analisis sentimen, seperti pengelompokan opini pengguna (positif, negatif, netral)."
   ]
  },
  {
   "cell_type": "code",
   "execution_count": 4,
   "metadata": {},
   "outputs": [
    {
     "name": "stdout",
     "output_type": "stream",
     "text": [
      "Scraping selesai! Total 30000 data ulasan berhasil disimpan ke dalam 'dataset_ulasan_brimo.csv'\n"
     ]
    }
   ],
   "source": [
    "# Mengonversi ke DataFrame dan menyimpan ke file CSV\n",
    "data = pd.DataFrame(scrapreview[0])\n",
    "data.to_csv('Dataset/dataset_ulasan_brimo.csv', index=False, encoding='utf-8')\n",
    "\n",
    "print(f\"Scraping selesai! Total {len(data)} data ulasan berhasil disimpan ke dalam 'dataset_ulasan_brimo.csv'\")"
   ]
  },
  {
   "cell_type": "markdown",
   "metadata": {},
   "source": [
    "Data ulasan yang telah dikumpulkan dikonversi menjadi DataFrame menggunakan pandas, kemudian diekspor ke dalam file brimo_review.csv. File ini akan digunakan untuk proses analisis sentimen berikutnya, seperti pembersihan data, ekstraksi fitur, dan pelatihan model."
   ]
  }
 ],
 "metadata": {
  "kernelspec": {
   "display_name": "main-ds",
   "language": "python",
   "name": "python3"
  },
  "language_info": {
   "codemirror_mode": {
    "name": "ipython",
    "version": 3
   },
   "file_extension": ".py",
   "mimetype": "text/x-python",
   "name": "python",
   "nbconvert_exporter": "python",
   "pygments_lexer": "ipython3",
   "version": "3.9.21"
  }
 },
 "nbformat": 4,
 "nbformat_minor": 2
}
